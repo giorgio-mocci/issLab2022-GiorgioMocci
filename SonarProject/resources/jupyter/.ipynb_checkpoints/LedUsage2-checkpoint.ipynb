{
 "cells": [
  {
   "cell_type": "markdown",
   "metadata": {
    "slideshow": {
     "slide_type": "subslide"
    }
   },
   "source": [
    "# Led usage with UDP"
   ]
  },
  {
   "cell_type": "code",
   "execution_count": 3,
   "metadata": {},
   "outputs": [
    {
     "name": "stdout",
     "output_type": "stream",
     "text": [
      "STARTING ... \n",
      "CONNECTED WITH  ('192.168.196.70', 8010)\n",
      "console  STARTS :\n",
      "off\n",
      "console  D= : off\n",
      "off\n",
      "forward  off\n"
     ]
    },
    {
     "ename": "NameError",
     "evalue": "name 'server_address' is not defined",
     "output_type": "error",
     "traceback": [
      "\u001b[1;31m---------------------------------------------------------------------------\u001b[0m",
      "\u001b[1;31mNameError\u001b[0m                                 Traceback (most recent call last)",
      "\u001b[1;32m~\\AppData\\Local\\Temp/ipykernel_3568/3166566307.py\u001b[0m in \u001b[0;36m<module>\u001b[1;34m\u001b[0m\n\u001b[0;32m     41\u001b[0m \u001b[0mprint\u001b[0m\u001b[1;33m(\u001b[0m\u001b[1;34m\"STARTING ... \"\u001b[0m\u001b[1;33m)\u001b[0m\u001b[1;33m\u001b[0m\u001b[1;33m\u001b[0m\u001b[0m\n\u001b[0;32m     42\u001b[0m \u001b[0mconnect\u001b[0m\u001b[1;33m(\u001b[0m\u001b[0mport\u001b[0m\u001b[1;33m)\u001b[0m\u001b[1;33m\u001b[0m\u001b[1;33m\u001b[0m\u001b[0m\n\u001b[1;32m---> 43\u001b[1;33m \u001b[0mconsole\u001b[0m\u001b[1;33m(\u001b[0m\u001b[1;33m)\u001b[0m\u001b[1;33m\u001b[0m\u001b[1;33m\u001b[0m\u001b[0m\n\u001b[0m",
      "\u001b[1;32m~\\AppData\\Local\\Temp/ipykernel_3568/3166566307.py\u001b[0m in \u001b[0;36mconsole\u001b[1;34m()\u001b[0m\n\u001b[0;32m     35\u001b[0m         \u001b[0mmsg\u001b[0m \u001b[1;33m=\u001b[0m \u001b[0mcmd\u001b[0m\u001b[1;33m\u001b[0m\u001b[1;33m\u001b[0m\u001b[0m\n\u001b[0;32m     36\u001b[0m         \u001b[0mprint\u001b[0m\u001b[1;33m(\u001b[0m \u001b[0mmsg\u001b[0m \u001b[1;33m)\u001b[0m\u001b[1;33m\u001b[0m\u001b[1;33m\u001b[0m\u001b[0m\n\u001b[1;32m---> 37\u001b[1;33m         \u001b[0mforward\u001b[0m\u001b[1;33m(\u001b[0m \u001b[0mmsg\u001b[0m \u001b[1;33m)\u001b[0m\u001b[1;33m\u001b[0m\u001b[1;33m\u001b[0m\u001b[0m\n\u001b[0m\u001b[0;32m     38\u001b[0m         \u001b[0mcmd\u001b[0m \u001b[1;33m=\u001b[0m  \u001b[0mstr\u001b[0m\u001b[1;33m(\u001b[0m\u001b[0minput\u001b[0m\u001b[1;33m(\u001b[0m\u001b[1;33m)\u001b[0m\u001b[1;33m)\u001b[0m\u001b[1;33m\u001b[0m\u001b[1;33m\u001b[0m\u001b[0m\n\u001b[0;32m     39\u001b[0m \u001b[1;33m\u001b[0m\u001b[0m\n",
      "\u001b[1;32m~\\AppData\\Local\\Temp/ipykernel_3568/3166566307.py\u001b[0m in \u001b[0;36mforward\u001b[1;34m(message)\u001b[0m\n\u001b[0;32m     26\u001b[0m     \u001b[0mmsg\u001b[0m \u001b[1;33m=\u001b[0m \u001b[0mmessage\u001b[0m \u001b[1;33m+\u001b[0m \u001b[1;34m\"\\n\"\u001b[0m\u001b[1;33m\u001b[0m\u001b[1;33m\u001b[0m\u001b[0m\n\u001b[0;32m     27\u001b[0m     \u001b[0mbyt\u001b[0m\u001b[1;33m=\u001b[0m\u001b[0mmsg\u001b[0m\u001b[1;33m.\u001b[0m\u001b[0mencode\u001b[0m\u001b[1;33m(\u001b[0m\u001b[1;33m)\u001b[0m    \u001b[1;31m#required in Python3\u001b[0m\u001b[1;33m\u001b[0m\u001b[1;33m\u001b[0m\u001b[0m\n\u001b[1;32m---> 28\u001b[1;33m     \u001b[0msock\u001b[0m\u001b[1;33m.\u001b[0m\u001b[0msendto\u001b[0m\u001b[1;33m(\u001b[0m\u001b[0mbyt\u001b[0m\u001b[1;33m,\u001b[0m\u001b[0mserver_address\u001b[0m\u001b[1;33m)\u001b[0m\u001b[1;33m\u001b[0m\u001b[1;33m\u001b[0m\u001b[0m\n\u001b[0m\u001b[0;32m     29\u001b[0m \u001b[1;33m\u001b[0m\u001b[0m\n\u001b[0;32m     30\u001b[0m \u001b[1;32mdef\u001b[0m \u001b[0mconsole\u001b[0m\u001b[1;33m(\u001b[0m\u001b[1;33m)\u001b[0m \u001b[1;33m:\u001b[0m\u001b[1;33m\u001b[0m\u001b[1;33m\u001b[0m\u001b[0m\n",
      "\u001b[1;31mNameError\u001b[0m: name 'server_address' is not defined"
     ]
    }
   ],
   "source": [
    "##############################################################\n",
    "# TCP-Send a msg to Led on 8010\n",
    "##############################################################\n",
    "import socket\n",
    "import time\n",
    "\n",
    "hostAdress     = '192.168.196.70'\n",
    "port           = 8010\n",
    "ledOn          = \"on\"\n",
    "ledOff         = \"off\"\n",
    "msg            = ''\n",
    "\n",
    "sock          = socket.socket(socket.AF_INET, socket.SOCK_DGRAM)\n",
    "\n",
    "def connect(port) :\n",
    "    server_address = (hostAdress, port)\n",
    "    #sock.connect(server_address)    \n",
    "    print(\"CONNECTED WITH \", server_address)\n",
    "\n",
    "def terminate() :\n",
    "    sock.close()    #qak infrastr receives a msg null\n",
    "    print(\"BYE\")\n",
    "\n",
    "def forward( message ) :\n",
    "    print(\"forward \", message)\n",
    "    msg = message + \"\\n\"\n",
    "    byt=msg.encode()    #required in Python3\n",
    "    server_address = (hostAdress, port)\n",
    "    sock.sendto(byt,server_address)\n",
    "\n",
    "def console() :  \n",
    "    print(\"console  STARTS :\"   )\n",
    "    cmd =  str( input() )\n",
    "    print(\"console  D= :\" , cmd  )\n",
    "    while( cmd != \"q\"  ) :\n",
    "        msg = cmd\n",
    "        print( msg )\n",
    "        forward( msg )\n",
    "        cmd =  str(input())\n",
    "     \n",
    "##################################################\n",
    "print(\"STARTING ... \")\n",
    "connect(port)\n",
    "console()"
   ]
  },
  {
   "cell_type": "code",
   "execution_count": null,
   "metadata": {},
   "outputs": [],
   "source": []
  },
  {
   "cell_type": "code",
   "execution_count": null,
   "metadata": {},
   "outputs": [],
   "source": []
  },
  {
   "cell_type": "code",
   "execution_count": null,
   "metadata": {},
   "outputs": [],
   "source": []
  }
 ],
 "metadata": {
  "kernelspec": {
   "display_name": "Python 3 (ipykernel)",
   "language": "python",
   "name": "python3"
  },
  "language_info": {
   "codemirror_mode": {
    "name": "ipython",
    "version": 3
   },
   "file_extension": ".py",
   "mimetype": "text/x-python",
   "name": "python",
   "nbconvert_exporter": "python",
   "pygments_lexer": "ipython3",
   "version": "3.9.7"
  }
 },
 "nbformat": 4,
 "nbformat_minor": 2
}
